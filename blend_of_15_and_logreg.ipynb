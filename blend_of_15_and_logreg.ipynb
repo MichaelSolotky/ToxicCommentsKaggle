{
 "cells": [
  {
   "cell_type": "code",
   "execution_count": 6,
   "metadata": {},
   "outputs": [],
   "source": [
    "import numpy as np\n",
    "import pandas as pd\n",
    "from sklearn.preprocessing import minmax_scale"
   ]
  },
  {
   "cell_type": "code",
   "execution_count": 7,
   "metadata": {},
   "outputs": [],
   "source": [
    "blend_of_12_models = pd.read_csv('submissions/blend_it_all.csv')\n",
    "logreg = pd.read_csv('submissions/logreg_best.csv')\n",
    "xgb = pd.read_csv('submissions/tidy_xgb_glm.csv')\n",
    "\n",
    "labels = [\"toxic\", \"severe_toxic\", \"obscene\", \"threat\", \"insult\", \"identity_hate\"]\n",
    "for label in labels:\n",
    "    blend_of_12_models[label] = minmax_scale(blend_of_12_models[label])\n",
    "    logreg[label] = minmax_scale(logreg[label])\n",
    "    xgb[label] = minmax_scale(xgb[label])\n",
    "\n",
    "submission = pd.DataFrame()\n",
    "submission['id'] = logreg['id']\n",
    "\n",
    "submission[labels] = (blend_of_12_models[labels]*12 +\n",
    "                      xgb[labels]*-1 +\n",
    "                      logreg[labels]*-2) / 9"
   ]
  },
  {
   "cell_type": "code",
   "execution_count": 8,
   "metadata": {},
   "outputs": [],
   "source": [
    "submission.to_csv('submissions/blend_of_15_models_and_logreg.csv', index=False)"
   ]
  },
  {
   "cell_type": "code",
   "execution_count": null,
   "metadata": {},
   "outputs": [],
   "source": []
  },
  {
   "cell_type": "code",
   "execution_count": null,
   "metadata": {},
   "outputs": [],
   "source": []
  }
 ],
 "metadata": {
  "kernelspec": {
   "display_name": "Python 3",
   "language": "python",
   "name": "python3"
  },
  "language_info": {
   "codemirror_mode": {
    "name": "ipython",
    "version": 3
   },
   "file_extension": ".py",
   "mimetype": "text/x-python",
   "name": "python",
   "nbconvert_exporter": "python",
   "pygments_lexer": "ipython3",
   "version": "3.6.3"
  }
 },
 "nbformat": 4,
 "nbformat_minor": 2
}
